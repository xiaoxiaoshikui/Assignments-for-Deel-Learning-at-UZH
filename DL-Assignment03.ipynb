{
 "cells": [
  {
   "cell_type": "markdown",
   "metadata": {},
   "source": [
    "# Assignment 3: Universal Function Approximator\n",
    "\n",
    "\n",
    "The goal of this exercise is to train a two-layer fully-connected network to perform one-dimensional non-linear regression via gradient descent. To show the flexibility of the approach, three different functions will be approximated. First, the network and its gradient need to be implemented. Second, target data for three different functions will be generated. Finally, the training procedure will be applied to the data, and the resulting approximated function will be plotted together with the data samples.\n",
    "\n",
    "## Network Implementation\n",
    "\n",
    "A two-layer network is defined by parameters $\\Theta=(\\mathbf W^{(1)},\\vec w^{(2)})$ that are split into $\\mathbf W^{(1)}\\in\\mathbb R^{K\\times {(D+1)}}$ for the first layer and $\\vec w^{(2)}\\in\\mathbb R^{K+1}$ for the second layer. In our case, since we have only a single input, we have $D=1$.\n",
    "For a given input $\\vec x = (1, x)^T$, the network is implemented in three steps:\n",
    "\n",
    "1. Compute the first layer output, aka, the activation: $\\vec a_- = \\mathbf W^{(1)} \\vec x$\n",
    "2. Apply the activation function for each element of $\\vec a_- : \\vec h_- = g(\\vec a_-)$ and prepend the bias neuron $h_0=1$ to arrive at $\\vec h$.\n",
    "3. Compute the output of the network: $y = \\vec w^{(2)}\\ ^T\\vec h$.\n",
    "\n",
    "### Task 1  \n",
    "Implement a function that returns the network output for a given input $\\vec x$ and parameters $\\Theta=(\\mathbf W^{(1)}, \\vec w^{(2)})$. Remember that the input of the function $\\vec x = (1, x)^T$. Also remember to prepend $h_0=1$ in your implementation.\n",
    "\n",
    "We use hyperbolic tangent $(\\tanh)$ as the activation function:\n",
    "\n",
    "\\begin{equation*}\n",
    "    \\tanh(a) = \\frac{e^{a}-e^{-a}}{e^{a}+e^{-a}}\n",
    "\\end{equation*}\n",
    "\n",
    "Note:\n",
    "\n",
    "1. Use the `numpy` implemention of the hyperbolic tangent function.\n",
    "2. Use `numpy.concatenate` or `numpy.insert` to prepend $h_0$.\n",
    "3. Make use of `numpy.dot` to compute matrix-vector and vector-vector products."
   ]
  },
  {
   "cell_type": "code",
   "execution_count": 1,
   "metadata": {},
   "outputs": [],
   "source": [
    "import numpy\n",
    "import math\n",
    "\n",
    "def network(x, Theta): \n",
    "  W1, w2 = Theta\n",
    "  a_ = numpy.dot(W1, x)\n",
    "  h_ = numpy.tanh(a_)\n",
    "  h = numpy.concatenate((numpy.array([1]), numpy.array(h_)))\n",
    "  y = numpy.dot(w2, h)\n",
    "  return numpy.squeeze(y), h\n"
   ]
  },
  {
   "cell_type": "markdown",
   "metadata": {},
   "source": [
    "Test 1: Sanity Check\n",
    "----------------------------\n",
    "\n",
    "We select a specific number of hidden neurons and create the weights accordingly, using all zeros in the first layer and all ones in the second. The test case below assures that the function from Task 1 actually returns $1$ for those weights.\n",
    "\n",
    "Note: your function should pass the test below."
   ]
  },
  {
   "cell_type": "code",
   "execution_count": 2,
   "metadata": {},
   "outputs": [
    {
     "name": "stdout",
     "output_type": "stream",
     "text": [
      "Test passed\n"
     ]
    }
   ],
   "source": [
    "K = 20\n",
    "D = 1\n",
    "W1 = numpy.zeros((K, D+1))\n",
    "w2 = numpy.ones(K+1)\n",
    "x = numpy.random.rand(D+1)\n",
    "\n",
    "y, _ = network(x, (W1, w2))\n",
    "assert abs(1 - y) < 1e-6\n",
    "print(\"Test passed\")"
   ]
  },
  {
   "cell_type": "markdown",
   "metadata": {},
   "source": [
    "## Gradient Implementation\n",
    "\n",
    "In order to perform gradient descent, we need to define a loss function. As provided in the lecture, the $\\mathcal J^{L_2}$ loss function is defined over a dataset $X=\\{(\\vec x^{[n]}, t^{[n]})\\}$, that is defined as a list of tuples, as follows:\n",
    "\n",
    "$$\n",
    "   \\mathcal J^{L_2} = \\frac{1}{N}\\sum_{i=1}^N (y^{[n]}-t^{[n]})^2\n",
    "$$\n",
    "\n",
    "where $y^{[n]}$ is the output of the network from Task 1 when inputting $\\vec x^{[n]}$. Interestingly, however, we never explicitly need to compute the output of the loss function. It is only used to analytically compute the gradient as shown in the lecture.\n",
    "\n",
    "The gradient is composed of two items, one for each layer. Particularly, for a given dataset $X$, the gradient of loss $J^{L_2}$ is defined as:\n",
    "\n",
    "\\begin{align}\n",
    "  \\frac{\\partial \\mathcal J}{\\partial w_{kd}^{(1)}} &= \\frac{2}{N} \\sum\\limits_{n=1}^N (y^{[n]}-t^{[n]}) w_{k}^{(2)} (1-h_{k}^{[n]}\\cdot h_{k}^{[n]}) x_{d}^{[n]}\\\\\n",
    "  \\frac{\\partial \\mathcal J}{\\partial w_{k}^{(2)}} &= \\frac{2}{N} \\sum\\limits_{n=1}^N (y^{[n]}-t^{[n]}) w_{k}^{(2)} h_{k}^{[n]}\n",
    "\\end{align}\n",
    "\n",
    "### Task 2\n",
    "Implement a function that returns the gradient as defined in $(1)$ and $(2)$ for a given dataset $X$, and given weights $\\Theta=(\\mathbf W^{(1)},\\vec w^{(2)})$. Make sure that both parts of the gradient are computed. \n",
    "\n",
    "Hint:\n",
    "\n",
    "1. Make use of the the function implemented in Task 1 where appropriate\n",
    "\n",
    "Note:\n",
    "\n",
    "  1. This is a slow implementation. We will see how to speed this up in the next lecture.\n",
    "  2. You can make use of `numpy.zeros` to initialize the gradient.\n",
    "  3. The outper product can be computed via `numpy.outer`.\n",
    "  4. Remember that we used the $\\tanh$ activation function in our network."
   ]
  },
  {
   "cell_type": "code",
   "execution_count": 3,
   "metadata": {},
   "outputs": [],
   "source": [
    "def gradient(X, Theta):\n",
    "    \n",
    "    # split parameters for easier handling\n",
    "\n",
    "    \n",
    "    W1, w2 = Theta\n",
    "  \n",
    "    # define gradient with respect to both parameters\n",
    "    dW1 = numpy.zeros(W1.shape)\n",
    "    dw2 = numpy.zeros(w2.shape)\n",
    "\n",
    "    # iterate over dataset\n",
    "    for x, t in X:\n",
    "        \n",
    "        # compute the gradient\n",
    "        y, h = network(x, Theta)\n",
    "        dW1 += numpy.outer((y - t) * w2[1:] * (1 - h[1:]**2), x)\n",
    "        dw2 += (y - t) * h\n",
    "\n",
    "    # anything else?\n",
    "    dW1 *= 2/len(X)\n",
    "    dw2 *= 2/len(X)\n",
    "  \n",
    "    return dW1, dw2\n",
    "        "
   ]
  },
  {
   "cell_type": "markdown",
   "metadata": {},
   "source": [
    "## Gradient Descent\n",
    "\n",
    "The procedure of gradient descent is the repeated application of two steps.\n",
    " \n",
    "1. The gradient of loss $\\nabla_{\\Theta}\\mathcal J^{L_2}$ is computed based on the current value of the parameters $\\Theta=(\\mathbf W^{(1)},\\vec w^{(2)})$.\n",
    "2. The weights are updated by moving a small step $\\eta$ into the direction of the negative gradient:\n",
    "\n",
    "$$\n",
    "    \\Theta = \\Theta - \\eta \\nabla_{\\Theta}\\mathcal J\n",
    "$$\n",
    "\n",
    "As stopping criterion, we select the number of training epochs to be 10000.\n",
    "\n",
    "### Task 3\n",
    "Implement a function that performs gradient descent for a given dataset $X$, given initial parameters $\\Theta$ and a given learning rate $\\eta$ and returns the optimized parameters $\\Theta^*$."
   ]
  },
  {
   "cell_type": "code",
   "execution_count": 4,
   "metadata": {},
   "outputs": [],
   "source": [
    "def gradient_descent(X, Theta, eta):\n",
    "    \n",
    "    \n",
    "    epochs = 10000\n",
    "\n",
    "\n",
    "     # perform iterative gradient descent\n",
    "    for epoch in range(epochs):\n",
    "        \n",
    "        dW1, dw2 = gradient(X, Theta)\n",
    "\n",
    "        # update the parameters\n",
    "        W1, w2 = Theta\n",
    "        W1 -= eta * dW1\n",
    "        w2 -= eta * dw2\n",
    "    \n",
    "    print(\"training finished!!!\")\n",
    "    return W1, w2"
   ]
  },
  {
   "cell_type": "markdown",
   "metadata": {},
   "source": [
    "## Generate Datasets\n",
    "\n",
    "In total, we will test our gradient descent function with three different datasets. Particularly, we approximate:\n",
    "\n",
    "1. $X_1: t = \\sin(2x)$ for $x\\in[-2,2]$\n",
    "2. $X_2: t = e^{-2x^2}$ for $x\\in[-2,2]$\n",
    "3. $X_3: t = -x^5 - 3x^4 + 11x^3 + 27x^2 - 10x - 64$ for $x\\in[-4.5,3.5]$\n",
    "\n",
    "### Task 4\n",
    "\n",
    "Generate dataset $X_1$, for $N=50$ samples randomly drawn from range $x\\in[-2,2]$. \n",
    "Generate data $X_2$ for $N=30$ samples randomly drawn from range $x\\in[-2,2]$. \n",
    "Generate dataset $X_3$ for $N=200$ samples randomly drawn from range $x\\in[-4.5,3.5]$. \n",
    "Implement all three datasets as lists of tuples: $\\{(\\vec x^{[n]}, t^{[n]})\\mid 1\\leq n\\leq N\\}$.\n",
    "\n",
    "Note:\n",
    "\n",
    "  1. You can use `numpy.random.uniform` to create uniformly distributed samples for $x$.\n",
    "  2. Make sure that $\\vec x = (1, x)^T$ for each sample.\n",
    "  3. You can make use of `numpy.sin`, `numpy.exp` and `numpy.pow` to compute target values."
   ]
  },
  {
   "cell_type": "code",
   "execution_count": 5,
   "metadata": {},
   "outputs": [],
   "source": [
    "N1_samples = 50\n",
    "N2_samples = 30\n",
    "N3_samples = 200\n",
    "\n",
    "# X1 data\n",
    "x1 = numpy.random.uniform(low=-2, high=2, size=N1_samples)\n",
    "t1 = numpy.sin(2*x1).astype(float)\n",
    "X1 = []\n",
    "for idx in range(len(x1)):\n",
    "    X1.append([[1, x1[idx]], t1[idx]])\n",
    "    \n",
    "\n",
    "# X2 data\n",
    "x2 = numpy.random.uniform(low=-2, high=2, size=N2_samples)\n",
    "t2 = numpy.exp(-numpy.power(x2, 2)).astype(float)\n",
    "X2 = []\n",
    "for idx in range(len(x2)):\n",
    "    X2.append([[1, x2[idx]], t2[idx]])\n",
    "\n",
    "\n",
    "# X3 data\n",
    "x3 = numpy.random.uniform(low=-4.5, high=3.5, size=N3_samples)\n",
    "t3 = (- numpy.power(x3, 5) - 3*numpy.power(x3, 4) + 11*numpy.power(x3, 3) +27*numpy.power(x3, 2) - 10*x3 - 64)\n",
    "X3 = []\n",
    "for idx in range(len(x3)):\n",
    "    X3.append([[1, x3[idx]], t3[idx]])\n",
    "\n"
   ]
  },
  {
   "cell_type": "markdown",
   "metadata": {},
   "source": [
    "### Test 2: Sanity Check\n",
    "\n",
    "The test case below assures that the elements of each generated dataset are tuples with two elements, that the first element ($\\vec x$) is a vector with two numbers, and that the second element ($t$) is a float."
   ]
  },
  {
   "cell_type": "code",
   "execution_count": 6,
   "metadata": {},
   "outputs": [
    {
     "name": "stdout",
     "output_type": "stream",
     "text": [
      "Test passed!\n"
     ]
    }
   ],
   "source": [
    "assert all(\n",
    "    isinstance(x, (tuple,list)) and \n",
    "    len(x) == 2 and \n",
    "    isinstance(x[0], (tuple,list,numpy.ndarray)) and \n",
    "    len (x[0]) == 2 and \n",
    "    isinstance(x[1], float)\n",
    "    for X in (X1, X2, X3)\n",
    "    for x in X\n",
    ")\n",
    "\n",
    "print('Test passed!')"
   ]
  },
  {
   "cell_type": "markdown",
   "metadata": {},
   "source": [
    "## Function Approximation\n",
    "\n",
    "Finally, we want to make use of our gradient descent implementation to approximate our functions. In order to see our success, we want to plot the functions together with the data.\n",
    "\n",
    "### Task 5 (theoretical question)\n",
    "\n",
    "When looking at the example plots in the exercise slides (exemplary solutions for the plotting Task 8), how many hidden neurons $K$ do we need in order to approximate the functions? Is there any difference\n",
    "1 between the three target functions?"
   ]
  },
  {
   "cell_type": "markdown",
   "metadata": {},
   "source": [
    "The number of hidden neurons K varies in three different functions. It seems that more data points are needed in datset X3, so a higher number of K = 30 is given. Following this rule, k = 4 is for dataset X2 and k = 2 is for dataset X1. "
   ]
  },
  {
   "cell_type": "code",
   "execution_count": 7,
   "metadata": {},
   "outputs": [],
   "source": [
    "K1 = 4\n",
    "K2 = 4\n",
    "K3 = 120"
   ]
  },
  {
   "cell_type": "markdown",
   "metadata": {},
   "source": [
    "### Task 6\n",
    "\n",
    "For each of the datasets, randomly initialize the parameters $\\Theta_1,\\Theta_2,\\Theta_3\\in[-1,1]$ according to the number of hidden neurons estimated in Task 5.\n",
    "\n",
    "Note:\n",
    "\n",
    "  1. You can use `numpy.random.uniform` to initialize the weights.\n",
    "  2. Make sure that the weight matrices are instantiated in the correct dimensions."
   ]
  },
  {
   "cell_type": "code",
   "execution_count": 8,
   "metadata": {},
   "outputs": [],
   "source": [
    "Theta1_W1 = numpy.random.uniform(low = -1, high=1, size= (K1, 2))\n",
    "Theta1_W2 = numpy.random.uniform(low = -1, high=1, size= K1 + 1)\n",
    "\n",
    "Theta1 = (Theta1_W1, Theta1_W2)\n",
    "\n",
    "    \n",
    "Theta2_W1 = numpy.random.uniform(low=-1, high=1, size= (K2,2))\n",
    "Theta2_W2 = numpy.random.uniform(low = -1, high=1, size= K2 + 1)\n",
    "Theta2 = (Theta2_W1, Theta2_W2)\n",
    "\n",
    "\n",
    "Theta3_W1 = numpy.random.uniform(low=-1, high=1, size= (K3, 2))\n",
    "Theta3_W2 = numpy.random.uniform(low = -1, high=1, size= K3 + 1)\n",
    "Theta3 = (Theta3_W1, Theta3_W2)\n"
   ]
  },
  {
   "cell_type": "markdown",
   "metadata": {},
   "source": [
    "### Task 7\n",
    "\n",
    "Call gradient descent function from Task 3 using the datasets $X_1, X_2, X_3$, the according created parameters $\\Theta_1,\\Theta_2,\\Theta_3$ and a learning rate of $\\eta=0.1$. Store the resulting optimized weights $\\Theta_1^*, \\Theta_2^*, \\Theta_3^*$ and the loss values.\n",
    "\n",
    "Optimize the learning rate $\\eta$ for each of the three functions. Do you see any differences? What are the best learning rates that you can find?\n",
    "\n",
    "WARNING: Depending on the implementation, this might run for several minutes!"
   ]
  },
  {
   "cell_type": "code",
   "execution_count": 9,
   "metadata": {},
   "outputs": [
    {
     "name": "stdout",
     "output_type": "stream",
     "text": [
      "training finished!!!\n",
      "training finished!!!\n",
      "training finished!!!\n"
     ]
    }
   ],
   "source": [
    "Theta1 = gradient_descent(X1, Theta1, 0.1)\n",
    "Theta2 = gradient_descent(X2, Theta2, 0.01)\n",
    "Theta3 = gradient_descent(X3, Theta3, 0.01)"
   ]
  },
  {
   "cell_type": "markdown",
   "metadata": {},
   "source": [
    "## Data and Function Plotting\n",
    "\n",
    "### Task 8\n",
    "\n",
    "Implement a plotting function that takes a given dataset $X$, given parameters $\\Theta$ and a defined range $R$. Each data sample $(x^{[n]},t^{[n]})$ of the dataset is plotted as an $''x''$. In order to plot the function that is approximated by the network, generate sufficient equally-spaced input values $x\\in R$, compute the network output $y$ for these inputs, and plot them with a line.\n",
    "\n",
    "Note:\n",
    "\n",
    "  1. The dataset $X$ is defined as above, a list of tuples $(\\vec x, t)$.\n",
    "  2. Each input in the dataset is defined as $\\vec x = (1,x)^T$.\n",
    "  3. Equidistant points can be obtained via `numpy.arange`."
   ]
  },
  {
   "cell_type": "code",
   "execution_count": 10,
   "metadata": {},
   "outputs": [],
   "source": [
    "import matplotlib.pyplot as plt\n",
    "def plot(X, Theta, R):\n",
    "  # first, plot data samples\n",
    "  plt.plot([x[1] for x, _ in X], [t for _, t in X], \"rx\", label=\"Data points\")\n",
    "\n",
    "  # define equidistant points from R[0] to R[1] to evaluate the network\n",
    "  x = numpy.linspace(R[0], R[1], 100)\n",
    "  # compute the network outputs for these values\n",
    "  y = [network((1, x_), Theta)[0] for x_ in x]\n",
    "  # plot network approximation\n",
    "  plt.plot(x,y,\"k-\", label=\"network\")\n",
    "  plt.legend()"
   ]
  },
  {
   "cell_type": "markdown",
   "metadata": {},
   "source": [
    "### Task 9\n",
    "\n",
    "For each of the datasets and their according optimized parameters, call the plotting function from Task 8. Use range $R=[-3,3]$ for dataset $X_1$ and $X_2$, and range $R=[-5.5,4.5]$ for dataset $X_3$. Note that the first element of range $R$ should be the lowest $x$-location, and the second element of $R$ the highest value for $x$. Did the networks approximate the functions? What can we do if not?"
   ]
  },
  {
   "cell_type": "code",
   "execution_count": 11,
   "metadata": {},
   "outputs": [
    {
     "data": {
      "image/png": "[encoded data removed]",
      "text/plain": [
       "<Figure size 1000x300 with 3 Axes>"
      ]
     },
     "metadata": {},
     "output_type": "display_data"
    }
   ],
   "source": [
    "figure = plt.figure(figsize=(10,3))\n",
    "\n",
    "# plot first function\n",
    "plt.subplot(131)\n",
    "plot(X1, Theta1, (-3, 3))\n",
    "\n",
    "# plot second function\n",
    "plt.subplot(132)\n",
    "plot(X2, Theta2, (-3, 3))\n",
    "\n",
    "# plot third function\n",
    "plt.subplot(133)\n",
    "plot(X3, Theta3, (-5.5, 4.5))"
   ]
  },
  {
   "cell_type": "code",
   "execution_count": null,
   "metadata": {},
   "outputs": [],
   "source": []
  },
  {
   "cell_type": "code",
   "execution_count": null,
   "metadata": {},
   "outputs": [],
   "source": []
  }
 ],
 "metadata": {
  "interpreter": {
   "hash": "2dd53f8ad749bca69f7250ce75eb4f0def59db5cf79075a9716322ffc58e8a2e"
  },
  "kernelspec": {
   "display_name": "Python 3 (ipykernel)",
   "language": "python",
   "name": "python3"
  },
  "language_info": {
   "codemirror_mode": {
    "name": "ipython",
    "version": 3
   },
   "file_extension": ".py",
   "mimetype": "text/x-python",
   "name": "python",
   "nbconvert_exporter": "python",
   "pygments_lexer": "ipython3",
   "version": "3.11.2"
  }
 },
 "nbformat": 4,
 "nbformat_minor": 2
}
